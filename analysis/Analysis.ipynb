{
 "cells": [
  {
   "cell_type": "code",
   "execution_count": null,
   "metadata": {},
   "outputs": [],
   "source": [
    "import os\n",
    "from figures import * \n",
    "from create_plots import *\n",
    "from settings import RESULTS_DIR"
   ]
  },
  {
   "cell_type": "markdown",
   "metadata": {},
   "source": [
    "# Single Experiment Analysis"
   ]
  },
  {
   "cell_type": "code",
   "execution_count": null,
   "metadata": {},
   "outputs": [],
   "source": [
    "EXPERIMENT = \"fog_4\"\n",
    "PATH = os.path.join(RESULTS_DIR, EXPERIMENT)"
   ]
  },
  {
   "cell_type": "code",
   "execution_count": null,
   "metadata": {},
   "outputs": [],
   "source": [
    "df_i = pd.read_csv(os.path.join(PATH, \"infrastructure.csv\"), index_col=\"time\")\n",
    "df_i.head()"
   ]
  },
  {
   "cell_type": "code",
   "execution_count": null,
   "metadata": {},
   "outputs": [],
   "source": [
    "df_a = pd.read_csv(os.path.join(PATH, \"applications.csv\"), index_col=\"time\")\n",
    "df_a.head()"
   ]
  },
  {
   "cell_type": "code",
   "execution_count": null,
   "metadata": {},
   "outputs": [],
   "source": [
    "summary = (\n",
    "    f\"{'Mean taxis'.ljust(15)}{df_i['taxis'].mean():.2f}\\n\"\n",
    "    f\"{'Max taxis'.ljust(15)}{df_i['taxis'].max()}\\n\\n\"\n",
    ")\n",
    "\n",
    "for key, value in df_i.drop(columns=\"taxis\").sum().iteritems():\n",
    "    if value:\n",
    "        summary += f\"{key.ljust(15)}{(value/3600):.2f} Wh\\n\"\n",
    "summary += \"\\n\"\n",
    "for key, value in df_a.drop(columns=\"taxis\").sum().iteritems():\n",
    "    if value:\n",
    "        summary += f\"{key.ljust(15)}{(value/3600):.2f} Wh\\n\"\n",
    "\n",
    "print(summary)"
   ]
  },
  {
   "cell_type": "code",
   "execution_count": null,
   "metadata": {
    "scrolled": true
   },
   "outputs": [],
   "source": [
    "infrastructure_figure(df_i).show()"
   ]
  },
  {
   "cell_type": "code",
   "execution_count": null,
   "metadata": {},
   "outputs": [],
   "source": [
    "applications_figure(df_a).show()"
   ]
  },
  {
   "cell_type": "code",
   "execution_count": null,
   "metadata": {},
   "outputs": [],
   "source": [
    "cctv_application_figure(df_a).show()    "
   ]
  },
  {
   "cell_type": "code",
   "execution_count": null,
   "metadata": {},
   "outputs": [],
   "source": [
    "stm_application_figure(df_a).show()"
   ]
  },
  {
   "cell_type": "markdown",
   "metadata": {},
   "source": [
    "# All Experiments Analysis"
   ]
  },
  {
   "cell_type": "code",
   "execution_count": null,
   "metadata": {},
   "outputs": [],
   "source": [
    "results = experiment_results()"
   ]
  },
  {
   "cell_type": "code",
   "execution_count": null,
   "metadata": {},
   "outputs": [],
   "source": [
    "print_experiment_table(results)"
   ]
  },
  {
   "cell_type": "code",
   "execution_count": null,
   "metadata": {},
   "outputs": [],
   "source": [
    "infrastructure_barplot_figure(results).show()"
   ]
  },
  {
   "cell_type": "code",
   "execution_count": null,
   "metadata": {},
   "outputs": [],
   "source": [
    "application_barplot_figure(results).show()"
   ]
  },
  {
   "cell_type": "code",
   "execution_count": null,
   "metadata": {},
   "outputs": [],
   "source": [
    "experiments_to_compare = [\"fog_4\", \"fog_6_shutdown5\"]\n",
    "comparison_dfs = {EXPERIMENT_TITLES[EXPERIMENTS.index(experiment)]: results[experiment][0] for experiment in results if experiment in experiments_to_compare}\n",
    "comparison_plot_figure(comparison_dfs)"
   ]
  }
 ],
 "metadata": {
  "kernelspec": {
   "display_name": "Python 3",
   "language": "python",
   "name": "python3"
  },
  "language_info": {
   "codemirror_mode": {
    "name": "ipython",
    "version": 3
   },
   "file_extension": ".py",
   "mimetype": "text/x-python",
   "name": "python",
   "nbconvert_exporter": "python",
   "pygments_lexer": "ipython3",
   "version": "3.6.7"
  }
 },
 "nbformat": 4,
 "nbformat_minor": 4
}
